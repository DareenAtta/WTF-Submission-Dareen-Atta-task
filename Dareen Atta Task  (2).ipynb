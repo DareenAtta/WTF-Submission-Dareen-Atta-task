{
 "cells": [
  {
   "cell_type": "code",
   "execution_count": null,
   "id": "9f2425b9",
   "metadata": {},
   "outputs": [],
   "source": [
    " #1-print all elements of a list using for loop"
   ]
  },
  {
   "cell_type": "code",
   "execution_count": 2,
   "id": "f2c8e3c0",
   "metadata": {},
   "outputs": [
    {
     "name": "stdout",
     "output_type": "stream",
     "text": [
      "Dareen Atta\n",
      "Abeer Adel\n",
      "Marwa Bisher\n"
     ]
    }
   ],
   "source": [
    "names=['Dareen Atta','Abeer Adel', 'Marwa Bisher']\n",
    "for name in names:\n",
    "    print(name)"
   ]
  },
  {
   "cell_type": "code",
   "execution_count": null,
   "id": "c9c9c22b",
   "metadata": {},
   "outputs": [],
   "source": []
  },
  {
   "cell_type": "code",
   "execution_count": 4,
   "id": "9bde60cc",
   "metadata": {},
   "outputs": [
    {
     "ename": "SyntaxError",
     "evalue": "invalid syntax (2595334844.py, line 2)",
     "output_type": "error",
     "traceback": [
      "\u001b[1;36m  Input \u001b[1;32mIn [4]\u001b[1;36m\u001b[0m\n\u001b[1;33m    than 5 years.Ask user for their salary and years of services and print the net bonus amount.\u001b[0m\n\u001b[1;37m         ^\u001b[0m\n\u001b[1;31mSyntaxError\u001b[0m\u001b[1;31m:\u001b[0m invalid syntax\n"
     ]
    }
   ],
   "source": [
    "#2 A company decided to give a bonus of 5% to employees if her/his year of servicesis more \n",
    "than 5 years.Ask user for their salary and years of services and print the net bonus amount.\n",
    "\n",
    "\n",
    "year_services=int(input('Enter number year of services: '))\n",
    "salary=int(input('Enter your salary: '))\n",
    "if year_services > 5:\n",
    "    bonus= salary * 0.05  \n",
    "    print('Net Salary:', bonus + salary)\n",
    "else:\n",
    "    print('Net Salary:', salary)"
   ]
  },
  {
   "cell_type": "code",
   "execution_count": null,
   "id": "c1167460",
   "metadata": {},
   "outputs": [],
   "source": []
  },
  {
   "cell_type": "code",
   "execution_count": null,
   "id": "5d9332f5",
   "metadata": {},
   "outputs": [],
   "source": [
    "#3- take input of age of 3 people by user and determine the oldest & youngest amonge them ."
   ]
  },
  {
   "cell_type": "code",
   "execution_count": 9,
   "id": "c242ed1d",
   "metadata": {},
   "outputs": [
    {
     "ename": "SyntaxError",
     "evalue": "invalid syntax (3954297686.py, line 7)",
     "output_type": "error",
     "traceback": [
      "\u001b[1;36m  Input \u001b[1;32mIn [9]\u001b[1;36m\u001b[0m\n\u001b[1;33m    else :\u001b[0m\n\u001b[1;37m    ^\u001b[0m\n\u001b[1;31mSyntaxError\u001b[0m\u001b[1;31m:\u001b[0m invalid syntax\n"
     ]
    }
   ],
   "source": [
    "age_group(age1,age2,age3)\n",
    "age1=int(input('Enter your age'))\n",
    "age2=int(input('Enter your age'))\n",
    "age3=int(input('Enter your age'))\n",
    "if (age1>age2) and (age1>age3):\n",
    "    print('the oldest person')\n",
    "    elif:\n",
    "        \n",
    "    print('the youngest person')"
   ]
  },
  {
   "cell_type": "code",
   "execution_count": null,
   "id": "f9fba6a6",
   "metadata": {},
   "outputs": [],
   "source": []
  },
  {
   "cell_type": "code",
   "execution_count": null,
   "id": "522df182",
   "metadata": {},
   "outputs": [],
   "source": [
    "#4 grading system :\n",
    "a.below 25-f\n",
    "b.25 to 44-E\n",
    "c.45 to 50-D\n",
    "d.51 to 60-C\n",
    "e.70 to 80-B\n",
    "f.Above 80-A"
   ]
  },
  {
   "cell_type": "code",
   "execution_count": null,
   "id": "8738dd34",
   "metadata": {},
   "outputs": [],
   "source": [
    "marks=int(input('Enter your marks:'))\n",
    "if marks<25:\n",
    "    print(f)\n",
    "elif 25 >= marks <45:\n",
    "    print(E)\n",
    "elif 45>= marks <=50:\n",
    "    print(D)\n",
    "elif 51>= marks <=60:\n",
    "    print(C)\n",
    "elif 70>= marks <=80:\n",
    "    print (B)\n",
    "elif marks > 80 :\n",
    "    print(A)"
   ]
  },
  {
   "cell_type": "code",
   "execution_count": null,
   "id": "b7e19023",
   "metadata": {},
   "outputs": [],
   "source": []
  },
  {
   "cell_type": "code",
   "execution_count": null,
   "id": "41aec731",
   "metadata": {},
   "outputs": [],
   "source": [
    "#6  Write a python script to merge two python dictionary"
   ]
  },
  {
   "cell_type": "code",
   "execution_count": null,
   "id": "18f1bc27",
   "metadata": {},
   "outputs": [],
   "source": [
    "dict1={1:'python',2:'Java',3:'R'}\n",
    "dict2={4:'c+',5:'Sass'}\n",
    "dict=dict1.copy()\n",
    "dict.update(dict2)\n",
    "print(dict)              "
   ]
  },
  {
   "cell_type": "code",
   "execution_count": null,
   "id": "20ae006b",
   "metadata": {},
   "outputs": [],
   "source": [
    "#7 Write a python program to remove a key from a dictionary"
   ]
  },
  {
   "cell_type": "code",
   "execution_count": null,
   "id": "eb4b610b",
   "metadata": {},
   "outputs": [],
   "source": [
    "dict={1:'python',2:'Java',3:'R'}\n",
    "dict2=dict.pop(3)\n",
    "print(dict2)"
   ]
  },
  {
   "cell_type": "code",
   "execution_count": null,
   "id": "5ca9af41",
   "metadata": {},
   "outputs": [],
   "source": [
    "#8 Write a python program to get the largest number from a list"
   ]
  },
  {
   "cell_type": "code",
   "execution_count": null,
   "id": "d8f22f1a",
   "metadata": {},
   "outputs": [],
   "source": [
    "def max_num_in_list(list):\n",
    "    max=list[0]\n",
    "    for a>max:\n",
    "        max=a\n",
    "        return max\n",
    "    print(max_num_in_list[14,20,-10,0])"
   ]
  },
  {
   "cell_type": "code",
   "execution_count": null,
   "id": "62ab8135",
   "metadata": {},
   "outputs": [],
   "source": []
  },
  {
   "cell_type": "code",
   "execution_count": null,
   "id": "0faba1e7",
   "metadata": {},
   "outputs": [],
   "source": []
  },
  {
   "cell_type": "code",
   "execution_count": null,
   "id": "5c0c47ff",
   "metadata": {},
   "outputs": [],
   "source": []
  }
 ],
 "metadata": {
  "kernelspec": {
   "display_name": "Python 3 (ipykernel)",
   "language": "python",
   "name": "python3"
  },
  "language_info": {
   "codemirror_mode": {
    "name": "ipython",
    "version": 3
   },
   "file_extension": ".py",
   "mimetype": "text/x-python",
   "name": "python",
   "nbconvert_exporter": "python",
   "pygments_lexer": "ipython3",
   "version": "3.9.12"
  }
 },
 "nbformat": 4,
 "nbformat_minor": 5
}
